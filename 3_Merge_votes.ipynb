{
 "cells": [
  {
   "cell_type": "markdown",
   "metadata": {},
   "source": [
    "# Merge votes\n",
    "On regroupe les votes de tous les députés"
   ]
  },
  {
   "cell_type": "code",
   "execution_count": 1,
   "metadata": {},
   "outputs": [],
   "source": [
    "import pandas as pd\n",
    "from glob import glob"
   ]
  },
  {
   "cell_type": "code",
   "execution_count": 3,
   "metadata": {},
   "outputs": [
    {
     "data": {
      "text/plain": [
       "(13700, 17)"
      ]
     },
     "execution_count": 3,
     "metadata": {},
     "output_type": "execute_result"
    }
   ],
   "source": [
    "# Gros df de 14000 lignes\n",
    "df = pd.concat(map(pd.read_csv, glob('data/votes/national/*.csv')))\n",
    "df.shape"
   ]
  },
  {
   "cell_type": "code",
   "execution_count": 5,
   "metadata": {},
   "outputs": [],
   "source": [
    "del df['Unnamed: 0']\n",
    "df.index = pd.to_datetime(df['date'])"
   ]
  },
  {
   "cell_type": "code",
   "execution_count": 17,
   "metadata": {},
   "outputs": [],
   "source": [
    "df.sort_index(inplace=True)"
   ]
  },
  {
   "cell_type": "code",
   "execution_count": 19,
   "metadata": {
    "scrolled": true
   },
   "outputs": [
    {
     "data": {
      "text/plain": [
       "(7460, 16)"
      ]
     },
     "execution_count": 19,
     "metadata": {},
     "output_type": "execute_result"
    }
   ],
   "source": [
    "# Dès la 50e législature\n",
    "df = df.loc['2015-11-30':].copy()\n",
    "df.shape"
   ]
  },
  {
   "cell_type": "code",
   "execution_count": 22,
   "metadata": {},
   "outputs": [
    {
     "data": {
      "text/plain": [
       "Loi sur les produits du tabac                                     1002\n",
       "Financement moniste des prestations de soins                       648\n",
       "Supprimer les droits de timbre par étapes et créer des emplois     595\n",
       "Mariage civil pour tous                                            566\n",
       "Renforcer l'attractivité de la Suisse pour les fondations          486\n",
       "Name: affairTitle, dtype: int64"
      ]
     },
     "execution_count": 22,
     "metadata": {},
     "output_type": "execute_result"
    }
   ],
   "source": [
    "df['affairTitle'].value_counts().head()"
   ]
  },
  {
   "cell_type": "code",
   "execution_count": 23,
   "metadata": {},
   "outputs": [],
   "source": [
    "df['timestamp'] = df['date']"
   ]
  },
  {
   "cell_type": "code",
   "execution_count": 25,
   "metadata": {},
   "outputs": [],
   "source": [
    "df_national = pd.read_csv('data/councillors/national_all.csv', usecols=['number', 'party'])"
   ]
  },
  {
   "cell_type": "code",
   "execution_count": 26,
   "metadata": {},
   "outputs": [],
   "source": [
    "dfm = df.merge(df_national, left_on='id', right_on='number')"
   ]
  },
  {
   "cell_type": "code",
   "execution_count": 27,
   "metadata": {},
   "outputs": [],
   "source": [
    "dfp = pd.pivot_table(\n",
    "    dfm,\n",
    "    values='decision',\n",
    "    index=['affairId', 'affairTitle', 'timestamp'],\n",
    "    aggfunc='sum',\n",
    "    columns=['firstName', 'lastName', 'id', 'party']\n",
    ")"
   ]
  },
  {
   "cell_type": "code",
   "execution_count": 30,
   "metadata": {},
   "outputs": [
    {
     "data": {
      "text/plain": [
       "Loi sur les produits du tabac                                                                                24\n",
       "Harmonisation des peines et adaptation du droit pénal accessoire au nouveau droit des sanctions              17\n",
       "Code de procédure pénale. Modification                                                                       14\n",
       "Obligation de collaborer à la procédure d'asile. Possibilité de contrôler les téléphones mobiles             11\n",
       "Droit de veto du Parlement sur les ordonnances du Conseil fédéral                                            10\n",
       "                                                                                                             ..\n",
       "Ne pas interrompre l'apprentissage des requérants d'asile déjà intégrés dans le marché suisse de l'emploi     1\n",
       "Les paramètres techniques n'ont pas leur place dans la LPP                                                    1\n",
       "Attaques à l'explosif contre les distributeurs de billets                                                     1\n",
       "CO. Droit de la société anonyme                                                                               1\n",
       "Comprendre et combattre la myopie des enfants                                                                 1\n",
       "Name: affairTitle, Length: 115, dtype: int64"
      ]
     },
     "execution_count": 30,
     "metadata": {},
     "output_type": "execute_result"
    }
   ],
   "source": [
    "dfp.reset_index()['affairTitle'].value_counts()"
   ]
  },
  {
   "cell_type": "code",
   "execution_count": 34,
   "metadata": {},
   "outputs": [],
   "source": [
    "dfp.sort_values('timestamp', inplace=True)"
   ]
  },
  {
   "cell_type": "code",
   "execution_count": 35,
   "metadata": {},
   "outputs": [],
   "source": [
    "dfp.to_csv('votes_apercu_a_completer.csv')\n",
    "dfp.to_excel('votes_apercu_a_completer.xlsx')"
   ]
  },
  {
   "cell_type": "code",
   "execution_count": null,
   "metadata": {},
   "outputs": [],
   "source": []
  }
 ],
 "metadata": {
  "kernelspec": {
   "display_name": "Python 3",
   "language": "python",
   "name": "python3"
  },
  "language_info": {
   "codemirror_mode": {
    "name": "ipython",
    "version": 3
   },
   "file_extension": ".py",
   "mimetype": "text/x-python",
   "name": "python",
   "nbconvert_exporter": "python",
   "pygments_lexer": "ipython3",
   "version": "3.8.1"
  }
 },
 "nbformat": 4,
 "nbformat_minor": 2
}
