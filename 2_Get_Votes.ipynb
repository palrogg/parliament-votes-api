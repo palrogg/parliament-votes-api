{
 "cells": [
  {
   "cell_type": "markdown",
   "metadata": {},
   "source": [
    "# Get Votes\n",
    "\n",
    "Récupérer les votes des parlementaires actuels en JSON grâce à l’API du parlement\n",
    "\n",
    "http://ws-old.parlament.ch/\n",
    "\n",
    "«Pour le moment, les nouveaux services web ne sont pas encore disponibles. Nous sommes cependant certains que nous pourrons remédier à cette situation d’ici au troisième trimestre 2019.»\n",
    "\n",
    "Votes:\n",
    "http://ws-old.parlament.ch/votes/councillors\n",
    "\n",
    "Exemple de liste de votes:\n"
   ]
  },
  {
   "cell_type": "markdown",
   "metadata": {},
   "source": [
    "http://ws-old.parlament.ch/votes/councillors/3055?legislativePeriodFiter=662"
   ]
  },
  {
   "cell_type": "code",
   "execution_count": 1,
   "metadata": {},
   "outputs": [],
   "source": [
    "import pandas as pd\n",
    "import json\n",
    "import requests\n",
    "from time import sleep\n",
    "pd.set_option('display.max_colwidth', 999)"
   ]
  },
  {
   "cell_type": "code",
   "execution_count": 2,
   "metadata": {},
   "outputs": [],
   "source": [
    "# df à actualiser avec 1_Get_Councillors.ipynb\n",
    "# (en l’occurence: impossible d’actualiser à cause de la colonne\n",
    "# \"number\", absente de la ressource utilisée dans 1_Get_Councillors)\n",
    "df_national = pd.read_csv('data/councillors/national_all.csv')\n",
    "df_etats = pd.read_csv('data/councillors/states_all.csv')"
   ]
  },
  {
   "cell_type": "code",
   "execution_count": 3,
   "metadata": {},
   "outputs": [
    {
     "data": {
      "text/plain": [
       "Groupe de l'Union démocratique du Centre    81\n",
       "Groupe socialiste                           55\n",
       "Groupe libéral-radical                      42\n",
       "Le Groupe du Centre. Le Centre. PEV.        31\n",
       "Groupe des VERT-E-S                         30\n",
       "Groupe vert'libéral                         19\n",
       "Groupe PDC                                   9\n",
       "Groupe des Verts                             4\n",
       "Groupe BD                                    4\n",
       "Name: factionName, dtype: int64"
      ]
     },
     "execution_count": 3,
     "metadata": {},
     "output_type": "execute_result"
    }
   ],
   "source": [
    "df_national['factionName'].value_counts()"
   ]
  },
  {
   "cell_type": "code",
   "execution_count": 6,
   "metadata": {},
   "outputs": [
    {
     "data": {
      "text/plain": [
       "90"
      ]
     },
     "execution_count": 6,
     "metadata": {},
     "output_type": "execute_result"
    }
   ],
   "source": [
    "len('==========================================================================================')"
   ]
  },
  {
   "cell_type": "code",
   "execution_count": 9,
   "metadata": {},
   "outputs": [
    {
     "data": {
      "text/plain": [
       "264"
      ]
     },
     "execution_count": 9,
     "metadata": {},
     "output_type": "execute_result"
    }
   ],
   "source": [
    "90 + len('==============================================================================================================================================================================')"
   ]
  },
  {
   "cell_type": "code",
   "execution_count": 12,
   "metadata": {
    "scrolled": true
   },
   "outputs": [
    {
     "name": "stdout",
     "output_type": "stream",
     "text": [
      "=="
     ]
    }
   ],
   "source": [
    "# Si on veut cibler un groupe précis:\n",
    "# for i, row in df_national[df_national['factionName'] == 'Groupe PDC'].iterrows():\n",
    "\n",
    "# On peut aussi filtrer avec legislativePeriodFilter=49\n",
    "exception_list = []\n",
    "delay = 0\n",
    "\n",
    "for i, row in df_national[88:90].iterrows():\n",
    "    print('', end='=')\n",
    "    number = row['number']\n",
    "    try:\n",
    "        response = requests.get('http://ws-old.parlament.ch/votes/councillors/{}?format=json&lang=fr'.format(number), headers={'Accept': 'application/json', 'Accept-Language': 'fr-CH, fr;q=0.9, en;q=0.8, de;q=0.7, *;q=0.5'})\n",
    "    except Exception as e:\n",
    "        print(f\"Erreur {e} pour {row['firstName']} {row['lastName']} (id: {row['id']})\")\n",
    "        continue\n",
    "    try:\n",
    "        df = pd.DataFrame(response.json())\n",
    "    except:\n",
    "        print(f\"JSON invalide pour {row['firstName']} {row['lastName']} (id: {row['id']})\")\n",
    "        print(f\"Lien:\\nhttp://ws-old.parlament.ch/votes/councillors/{row['id']}?format=json&lang=fr\")\n",
    "        exception_list.append(row['id'])\n",
    "        continue\n",
    "\n",
    "    # On aplatit le json\n",
    "    affairs = df['affairVotes'].tolist()\n",
    "    df_affair = pd.DataFrame(affairs)\n",
    "    df_affair['decision'] = df_affair['councillorVote'].apply(lambda x: x['decision'])\n",
    "    \n",
    "    dfm = df.join(df_affair, rsuffix='_')\n",
    "    del dfm['affairVotes']\n",
    "    del dfm['councillorVote']\n",
    "    \n",
    "    # On enregistre\n",
    "    dfm.to_csv('data/votes/national/{}_votes.csv'.format(number))\n",
    "    sleep(delay)"
   ]
  },
  {
   "cell_type": "code",
   "execution_count": 14,
   "metadata": {},
   "outputs": [
    {
     "name": "stdout",
     "output_type": "stream",
     "text": [
      "JSON invalide pour Elisabeth Baume-Schneider (id: 4238)\n",
      "Lien:\n",
      "http://ws-old.parlament.ch/votes/councillors/4238?format=json&lang=fr\n",
      "JSON invalide pour Isabelle Chassot (id: 4325)\n",
      "Lien:\n",
      "http://ws-old.parlament.ch/votes/councillors/4325?format=json&lang=fr\n",
      "JSON invalide pour Josef Dittli (id: 4151)\n",
      "Lien:\n",
      "http://ws-old.parlament.ch/votes/councillors/4151?format=json&lang=fr\n",
      "JSON invalide pour Stefan Engler (id: 4055)\n",
      "Lien:\n",
      "http://ws-old.parlament.ch/votes/councillors/4055?format=json&lang=fr\n",
      "JSON invalide pour Erich Ettlin (id: 4206)\n",
      "Lien:\n",
      "http://ws-old.parlament.ch/votes/councillors/4206?format=json&lang=fr\n",
      "JSON invalide pour Johanna Gapany (id: 4306)\n",
      "Lien:\n",
      "http://ws-old.parlament.ch/votes/councillors/4306?format=json&lang=fr\n",
      "JSON invalide pour Hannes Germann (id: 825)\n",
      "Lien:\n",
      "http://ws-old.parlament.ch/votes/councillors/825?format=json&lang=fr\n",
      "JSON invalide pour Thomas Hefti (id: 4139)\n",
      "Lien:\n",
      "http://ws-old.parlament.ch/votes/councillors/4139?format=json&lang=fr\n",
      "JSON invalide pour Peter Hegglin (id: 4153)\n",
      "Lien:\n",
      "http://ws-old.parlament.ch/votes/councillors/4153?format=json&lang=fr\n",
      "JSON invalide pour Eva Herzog (id: 4239)\n",
      "Lien:\n",
      "http://ws-old.parlament.ch/votes/councillors/4239?format=json&lang=fr\n",
      "JSON invalide pour Charles Juillard (id: 4240)\n",
      "Lien:\n",
      "http://ws-old.parlament.ch/votes/councillors/4240?format=json&lang=fr\n",
      "JSON invalide pour Alex Kuprecht (id: 1162)\n",
      "Lien:\n",
      "http://ws-old.parlament.ch/votes/councillors/1162?format=json&lang=fr\n",
      "JSON invalide pour Marianne Maret (id: 4303)\n",
      "Lien:\n",
      "http://ws-old.parlament.ch/votes/councillors/4303?format=json&lang=fr\n",
      "JSON invalide pour Matthias Michel (id: 4309)\n",
      "Lien:\n",
      "http://ws-old.parlament.ch/votes/councillors/4309?format=json&lang=fr\n",
      "JSON invalide pour Thomas Minder (id: 4112)\n",
      "Lien:\n",
      "http://ws-old.parlament.ch/votes/councillors/4112?format=json&lang=fr\n",
      "JSON invalide pour Damian Müller (id: 4207)\n",
      "Lien:\n",
      "http://ws-old.parlament.ch/votes/councillors/4207?format=json&lang=fr\n",
      "JSON invalide pour Othmar Reichmuth (id: 4316)\n",
      "Lien:\n",
      "http://ws-old.parlament.ch/votes/councillors/4316?format=json&lang=fr\n",
      "JSON invalide pour Beat Rieder (id: 4204)\n",
      "Lien:\n",
      "http://ws-old.parlament.ch/votes/councillors/4204?format=json&lang=fr\n",
      "JSON invalide pour Martin Schmid (id: 4078)\n",
      "Lien:\n",
      "http://ws-old.parlament.ch/votes/councillors/4078?format=json&lang=fr\n",
      "JSON invalide pour Jakob Stark (id: 4241)\n",
      "Lien:\n",
      "http://ws-old.parlament.ch/votes/councillors/4241?format=json&lang=fr\n",
      "JSON invalide pour Céline Vara (id: 4242)\n",
      "Lien:\n",
      "http://ws-old.parlament.ch/votes/councillors/4242?format=json&lang=fr\n",
      "JSON invalide pour Hans Wicki (id: 4152)\n",
      "Lien:\n",
      "http://ws-old.parlament.ch/votes/councillors/4152?format=json&lang=fr\n",
      "JSON invalide pour Benedikt Würth (id: 4237)\n",
      "Lien:\n",
      "http://ws-old.parlament.ch/votes/councillors/4237?format=json&lang=fr\n",
      "JSON invalide pour Roberto Zanetti (id: 525)\n",
      "Lien:\n",
      "http://ws-old.parlament.ch/votes/councillors/525?format=json&lang=fr\n",
      "JSON invalide pour Heidi Z'graggen (id: 4243)\n",
      "Lien:\n",
      "http://ws-old.parlament.ch/votes/councillors/4243?format=json&lang=fr\n",
      "JSON invalide pour Mathias Zopfi (id: 4244)\n",
      "Lien:\n",
      "http://ws-old.parlament.ch/votes/councillors/4244?format=json&lang=fr\n",
      "JSON invalide pour Isidor Baumann (id: 4088)\n",
      "Lien:\n",
      "http://ws-old.parlament.ch/votes/councillors/4088?format=json&lang=fr\n",
      "JSON invalide pour Raphaël Comte (id: 4026)\n",
      "Lien:\n",
      "http://ws-old.parlament.ch/votes/councillors/4026?format=json&lang=fr\n",
      "JSON invalide pour Robert Cramer (id: 3914)\n",
      "Lien:\n",
      "http://ws-old.parlament.ch/votes/councillors/3914?format=json&lang=fr\n",
      "JSON invalide pour Roland Eberle (id: 4068)\n",
      "Lien:\n",
      "http://ws-old.parlament.ch/votes/councillors/4068?format=json&lang=fr\n",
      "JSON invalide pour Joachim Eder (id: 4064)\n",
      "Lien:\n",
      "http://ws-old.parlament.ch/votes/councillors/4064?format=json&lang=fr\n",
      "JSON invalide pour Anita Fetz (id: 466)\n",
      "Lien:\n",
      "http://ws-old.parlament.ch/votes/councillors/466?format=json&lang=fr\n",
      "JSON invalide pour Jean-René Fournier (id: 3915)\n",
      "Lien:\n",
      "http://ws-old.parlament.ch/votes/councillors/3915?format=json&lang=fr\n",
      "JSON invalide pour Konrad Graber (id: 3921)\n",
      "Lien:\n",
      "http://ws-old.parlament.ch/votes/councillors/3921?format=json&lang=fr\n",
      "JSON invalide pour Claude Hêche (id: 3916)\n",
      "Lien:\n",
      "http://ws-old.parlament.ch/votes/councillors/3916?format=json&lang=fr\n",
      "JSON invalide pour Werner Hösli (id: 4145)\n",
      "Lien:\n",
      "http://ws-old.parlament.ch/votes/councillors/4145?format=json&lang=fr\n",
      "JSON invalide pour Filippo Lombardi (id: 540)\n",
      "Lien:\n",
      "http://ws-old.parlament.ch/votes/councillors/540?format=json&lang=fr\n",
      "JSON invalide pour Werner Luginbühl (id: 3918)\n",
      "Lien:\n",
      "http://ws-old.parlament.ch/votes/councillors/3918?format=json&lang=fr\n",
      "JSON invalide pour Anne Seydoux-Christe (id: 3920)\n",
      "Lien:\n",
      "http://ws-old.parlament.ch/votes/councillors/3920?format=json&lang=fr\n",
      "JSON invalide pour Beat Vonlanthen (id: 4205)\n",
      "Lien:\n",
      "http://ws-old.parlament.ch/votes/councillors/4205?format=json&lang=fr\n"
     ]
    }
   ],
   "source": [
    "# Ne fonctionne que pour 29 des Conseillers d'Etat, il faudra voir pourquoi\n",
    "\n",
    "# Si on veut cibler un groupe précis:\n",
    "# for i, row in df_national[df_national['factionName'] == 'Groupe PDC'].iterrows():\n",
    "\n",
    "for i, row in df_etats.iterrows():\n",
    "    print('', end='=')\n",
    "    number = row['number']\n",
    "    try:\n",
    "        response = requests.get('http://ws-old.parlament.ch/votes/councillors/{}?format=json&lang=fr'.format(number), headers={'Accept': 'application/json', 'Accept-Language': 'fr-CH, fr;q=0.9, en;q=0.8, de;q=0.7, *;q=0.5'})\n",
    "    except Exception as e:\n",
    "        print(f\"Erreur {e} pour {row['firstName']} {row['lastName']} (id: {row['id']})\")\n",
    "        continue\n",
    "        \n",
    "    try:\n",
    "        df = pd.DataFrame(response.json())\n",
    "    except:\n",
    "        print(f\"JSON invalide pour {row['firstName']} {row['lastName']} (id: {row['id']})\")\n",
    "        print(f\"Lien:\\nhttp://ws-old.parlament.ch/votes/councillors/{row['id']}?format=json&lang=fr\")\n",
    "        exception_list.append(row['id'])\n",
    "        continue\n",
    "    \n",
    "    affairs = df['affairVotes'].tolist()\n",
    "    df_affair = pd.DataFrame(affairs)\n",
    "    \n",
    "    # On aplatit et enregistre\n",
    "    dfm = df.join(df_affair, rsuffix='_')\n",
    "    del dfm['affairVotes']\n",
    "    del dfm['councillorVote']\n",
    "    dfm.to_csv('data/votes/states/{}_votes.csv'.format(number))\n",
    "    sleep(.5)"
   ]
  },
  {
   "cell_type": "markdown",
   "metadata": {},
   "source": [
    "### La liste des détails par vote est ici\n",
    "Ceux du CdE dont le JSON ne fonctionne pas ne sont pas listés\n",
    "\n",
    "http://ws-old.parlament.ch/votes/councillors"
   ]
  }
 ],
 "metadata": {
  "kernelspec": {
   "display_name": "Python 3",
   "language": "python",
   "name": "python3"
  },
  "language_info": {
   "codemirror_mode": {
    "name": "ipython",
    "version": 3
   },
   "file_extension": ".py",
   "mimetype": "text/x-python",
   "name": "python",
   "nbconvert_exporter": "python",
   "pygments_lexer": "ipython3",
   "version": "3.8.1"
  }
 },
 "nbformat": 4,
 "nbformat_minor": 2
}
