{
 "cells": [
  {
   "cell_type": "markdown",
   "metadata": {},
   "source": [
    "# Get Councillors\n",
    "\n",
    "Récupérer la liste actuelle des parlementaires en JSON grâce à l’API du parlement\n",
    "\n",
    "http://ws-old.parlament.ch/\n",
    "\n",
    "«Pour le moment, les nouveaux services web ne sont pas encore disponibles. Nous sommes cependant certains que nous pourrons remédier à cette situation d’ici au troisième trimestre 2019.»\n",
    "\n",
    "Votes:\n",
    "http://ws-old.parlament.ch/votes/councillors"
   ]
  },
  {
   "cell_type": "markdown",
   "metadata": {},
   "source": [
    "http://ws-old.parlament.ch/votes/councillors/3055?legislativePeriodFiter=662"
   ]
  },
  {
   "cell_type": "code",
   "execution_count": 1,
   "metadata": {},
   "outputs": [],
   "source": [
    "import pandas as pd\n",
    "import requests\n",
    "from time import sleep\n",
    "pd.set_option('display.max_colwidth', 999)"
   ]
  },
  {
   "cell_type": "code",
   "execution_count": 38,
   "metadata": {},
   "outputs": [],
   "source": [
    "# Choix de la législature\n",
    "legislative_period = 45"
   ]
  },
  {
   "cell_type": "code",
   "execution_count": 39,
   "metadata": {},
   "outputs": [
    {
     "name": "stdout",
     "output_type": "stream",
     "text": [
      "======No more pages.\n"
     ]
    }
   ],
   "source": [
    "rows = []\n",
    "page_number = 1\n",
    "delay = 0.1\n",
    "while True:\n",
    "    print('', end='=')\n",
    "    try:\n",
    "        response = requests.get(f'http://ws-old.parlament.ch/councillors/historic?legislativePeriodFromFilter={legislative_period}&format=json&lang=fr&pageNumber={page_number}', headers={'Accept': 'application/json', 'Accept-Language': 'fr-CH, fr;q=0.9, en;q=0.8, de;q=0.7, *;q=0.5'})\n",
    "        data = response.json()\n",
    "        rows.extend(data)\n",
    "        if data[-1].get('hasMorePages') == False:\n",
    "            print('No more pages.')\n",
    "            break\n",
    "    except Exception as e:\n",
    "        print('Error', response.status_code, '/', e, 'probably end of pagination')\n",
    "        break\n",
    "    page_number += 1\n",
    "    sleep(delay)"
   ]
  },
  {
   "cell_type": "code",
   "execution_count": 40,
   "metadata": {},
   "outputs": [],
   "source": [
    "df_councillors = pd.DataFrame(rows)"
   ]
  },
  {
   "cell_type": "code",
   "execution_count": 41,
   "metadata": {},
   "outputs": [],
   "source": [
    "def get_grade(councillor_id):\n",
    "    grade = 'not found'\n",
    "    try:\n",
    "        response = requests.get(f'http://ws-old.parlament.ch/councillors/{councillor_id}?format=json&lang=fr', headers={'Accept': 'application/json', 'Accept-Language': 'fr-CH, fr;q=0.9, en;q=0.8, de;q=0.7, *;q=0.5'})\n",
    "        grade = response.json().get('militaryGrade')\n",
    "    except:\n",
    "        print('error')\n",
    "        grade = 'http error' + str(response.status_code)\n",
    "    return grade\n",
    "\n",
    "df_councillors['grade'] = df_councillors['id'].apply(get_grade)"
   ]
  },
  {
   "cell_type": "code",
   "execution_count": 42,
   "metadata": {},
   "outputs": [
    {
     "data": {
      "text/plain": [
       "Soldat                    18\n",
       "Premier-lieutenant        18\n",
       "Capitaine                 14\n",
       "Major                     10\n",
       "Appointé                   9\n",
       "Colonel                    6\n",
       "Sergent                    5\n",
       "Caporal                    4\n",
       "Fourrier                   3\n",
       "Lieutenant-colonel         3\n",
       "Adjudant sous-officier     1\n",
       "Sous-officier              1\n",
       "--                         1\n",
       "Brigadier                  1\n",
       "Name: grade, dtype: int64"
      ]
     },
     "execution_count": 42,
     "metadata": {},
     "output_type": "execute_result"
    }
   ],
   "source": [
    "# Législature 45\n",
    "df_councillors['grade'].value_counts()"
   ]
  },
  {
   "cell_type": "markdown",
   "metadata": {},
   "source": [
    "**Législature 51**\n",
    "\n",
    "```\n",
    "Soldat                       28\n",
    "Appointé                     11\n",
    "Capitaine                     8\n",
    "--                            5\n",
    "Premier-lieutenant            4\n",
    "Major                         4\n",
    "Sergent                       3\n",
    "Colonel                       2\n",
    "Fourrier aD                   2\n",
    "Caporal                       2\n",
    "Fourrier                      2\n",
    "Soldat aD                     2\n",
    "Capitaine aD                  1\n",
    "Officier spécialisé (maj)     1\n",
    "Appointé-chef                 1\n",
    "Lieutenant-colonel            1\n",
    "-                             1\n",
    "```"
   ]
  },
  {
   "cell_type": "code",
   "execution_count": 6,
   "metadata": {},
   "outputs": [],
   "source": [
    "df_councillors['council'] = df_councillors['council'].apply(lambda x: x['abbreviation'])"
   ]
  },
  {
   "cell_type": "code",
   "execution_count": 7,
   "metadata": {},
   "outputs": [],
   "source": [
    "df_councillors.to_csv('data/councillors/councillors_2019.csv', index=False)"
   ]
  },
  {
   "cell_type": "code",
   "execution_count": null,
   "metadata": {},
   "outputs": [],
   "source": []
  }
 ],
 "metadata": {
  "kernelspec": {
   "display_name": "Python 3",
   "language": "python",
   "name": "python3"
  },
  "language_info": {
   "codemirror_mode": {
    "name": "ipython",
    "version": 3
   },
   "file_extension": ".py",
   "mimetype": "text/x-python",
   "name": "python",
   "nbconvert_exporter": "python",
   "pygments_lexer": "ipython3",
   "version": "3.9.4"
  }
 },
 "nbformat": 4,
 "nbformat_minor": 2
}
