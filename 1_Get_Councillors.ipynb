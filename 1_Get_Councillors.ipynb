{
 "cells": [
  {
   "cell_type": "markdown",
   "metadata": {},
   "source": [
    "# Get Councillors\n",
    "\n",
    "Récupérer la liste actuelle des parlementaires en JSON grâce à l’API du parlement\n",
    "\n",
    "http://ws-old.parlament.ch/\n",
    "\n",
    "«Pour le moment, les nouveaux services web ne sont pas encore disponibles. Nous sommes cependant certains que nous pourrons remédier à cette situation d’ici au troisième trimestre 2019.»\n",
    "\n",
    "Votes:\n",
    "http://ws-old.parlament.ch/votes/councillors"
   ]
  },
  {
   "cell_type": "markdown",
   "metadata": {},
   "source": [
    "http://ws-old.parlament.ch/votes/councillors/3055?legislativePeriodFiter=662"
   ]
  },
  {
   "cell_type": "code",
   "execution_count": 2,
   "metadata": {},
   "outputs": [],
   "source": [
    "import pandas as pd\n",
    "import requests\n",
    "from time import sleep\n",
    "pd.set_option('display.max_colwidth', 999)"
   ]
  },
  {
   "cell_type": "code",
   "execution_count": 6,
   "metadata": {},
   "outputs": [
    {
     "name": "stdout",
     "output_type": "stream",
     "text": [
      "======Error 404 / Expecting value: line 1 column 1 (char 0) probably end of pagination\n"
     ]
    }
   ],
   "source": [
    "# Parlementaires des deux dernières législatures\n",
    "\n",
    "rows = []\n",
    "page_number = 1\n",
    "delay = 0.1\n",
    "while True:\n",
    "    print('', end='=')\n",
    "    try:\n",
    "        response = requests.get(f'http://ws-old.parlament.ch/councillors/historic?legislativePeriodFromFilter=49&format=json&lang=fr&pageNumber={page_number}', headers={'Accept': 'application/json', 'Accept-Language': 'fr-CH, fr;q=0.9, en;q=0.8, de;q=0.7, *;q=0.5'})\n",
    "        rows.extend(response.json())\n",
    "    except Exception as e:\n",
    "        print('Error', response.status_code, '/', e, 'probably end of pagination')\n",
    "        break\n",
    "    page_number += 1\n",
    "    sleep(delay)"
   ]
  },
  {
   "cell_type": "code",
   "execution_count": 8,
   "metadata": {},
   "outputs": [],
   "source": [
    "df_councillors = pd.DataFrame(rows)"
   ]
  },
  {
   "cell_type": "code",
   "execution_count": 16,
   "metadata": {},
   "outputs": [],
   "source": [
    "df_councillors['council'] = df_councillors['council'].apply(lambda x: x['abbreviation'])"
   ]
  },
  {
   "cell_type": "code",
   "execution_count": 21,
   "metadata": {},
   "outputs": [],
   "source": [
    "df_councillors.to_csv('data/councillors/councillors_history.csv', index=False)"
   ]
  }
 ],
 "metadata": {
  "kernelspec": {
   "display_name": "Python 3",
   "language": "python",
   "name": "python3"
  },
  "language_info": {
   "codemirror_mode": {
    "name": "ipython",
    "version": 3
   },
   "file_extension": ".py",
   "mimetype": "text/x-python",
   "name": "python",
   "nbconvert_exporter": "python",
   "pygments_lexer": "ipython3",
   "version": "3.8.1"
  }
 },
 "nbformat": 4,
 "nbformat_minor": 2
}
