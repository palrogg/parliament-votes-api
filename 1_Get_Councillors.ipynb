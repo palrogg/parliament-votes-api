{
 "cells": [
  {
   "cell_type": "markdown",
   "metadata": {},
   "source": [
    "# Get Councillors\n",
    "\n",
    "Récupérer la liste actuelle des parlementaires en JSON grâce à l’API du parlement\n",
    "\n",
    "http://ws-old.parlament.ch/\n",
    "\n",
    "«Pour le moment, les nouveaux services web ne sont pas encore disponibles. Nous sommes cependant certains que nous pourrons remédier à cette situation d’ici au troisième trimestre 2019.»\n",
    "\n",
    "Votes:\n",
    "http://ws-old.parlament.ch/votes/councillors"
   ]
  },
  {
   "cell_type": "markdown",
   "metadata": {},
   "source": [
    "http://ws-old.parlament.ch/votes/councillors/3055?legislativePeriodFiter=662"
   ]
  },
  {
   "cell_type": "code",
   "execution_count": 1,
   "metadata": {},
   "outputs": [],
   "source": [
    "import pandas as pd\n",
    "import requests\n",
    "from time import sleep\n",
    "pd.set_option('display.max_colwidth', 999)"
   ]
  },
  {
   "cell_type": "code",
   "execution_count": 8,
   "metadata": {},
   "outputs": [],
   "source": [
    "data = response.json()"
   ]
  },
  {
   "cell_type": "code",
   "execution_count": 14,
   "metadata": {},
   "outputs": [
    {
     "data": {
      "text/plain": [
       "False"
      ]
     },
     "execution_count": 14,
     "metadata": {},
     "output_type": "execute_result"
    }
   ],
   "source": [
    "data[-1].get('hasModrePages') == False"
   ]
  },
  {
   "cell_type": "code",
   "execution_count": 15,
   "metadata": {},
   "outputs": [
    {
     "name": "stdout",
     "output_type": "stream",
     "text": [
      "=====No more pages.\n"
     ]
    }
   ],
   "source": [
    "# Parlementaires des deux dernières législatures\n",
    "\n",
    "rows = []\n",
    "page_number = 1\n",
    "delay = 0.1\n",
    "while True:\n",
    "    print('', end='=')\n",
    "    try:\n",
    "        response = requests.get(f'http://ws-old.parlament.ch/councillors/historic?legislativePeriodFromFilter=51&format=json&lang=fr&pageNumber={page_number}', headers={'Accept': 'application/json', 'Accept-Language': 'fr-CH, fr;q=0.9, en;q=0.8, de;q=0.7, *;q=0.5'})\n",
    "        data = response.json()\n",
    "        rows.extend(data)\n",
    "        if data[-1].get('hasMorePages') == False:\n",
    "            print('No more pages.')\n",
    "            break\n",
    "    except Exception as e:\n",
    "        print('Error', response.status_code, '/', e, 'probably end of pagination')\n",
    "        break\n",
    "    page_number += 1\n",
    "    sleep(delay)"
   ]
  },
  {
   "cell_type": "code",
   "execution_count": 3,
   "metadata": {},
   "outputs": [],
   "source": [
    "df_councillors = pd.DataFrame(rows)"
   ]
  },
  {
   "cell_type": "code",
   "execution_count": 6,
   "metadata": {},
   "outputs": [],
   "source": [
    "df_councillors['council'] = df_councillors['council'].apply(lambda x: x['abbreviation'])"
   ]
  },
  {
   "cell_type": "code",
   "execution_count": 7,
   "metadata": {},
   "outputs": [],
   "source": [
    "df_councillors.to_csv('data/councillors/councillors_2019.csv', index=False)"
   ]
  },
  {
   "cell_type": "code",
   "execution_count": null,
   "metadata": {},
   "outputs": [],
   "source": []
  }
 ],
 "metadata": {
  "kernelspec": {
   "display_name": "Python 3",
   "language": "python",
   "name": "python3"
  },
  "language_info": {
   "codemirror_mode": {
    "name": "ipython",
    "version": 3
   },
   "file_extension": ".py",
   "mimetype": "text/x-python",
   "name": "python",
   "nbconvert_exporter": "python",
   "pygments_lexer": "ipython3",
   "version": "3.9.4"
  }
 },
 "nbformat": 4,
 "nbformat_minor": 2
}
